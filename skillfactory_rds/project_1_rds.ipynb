{
  "cells":[
    {
      "cell_type":"code",
      "source":[
        "import numpy as np\n",
        "import pandas as pd\n",
        "import seaborn as sns\n",
        "import matplotlib.pyplot as plt\n",
        "from collections import Counter\n",
        "import itertools\n",
        "import pep8"
      ],
      "execution_count":1177,
      "outputs":[
        
      ],
      "metadata":{
        
      }
    },
    {
      "cell_type":"code",
      "source":[
        "data = pd.read_csv('movie_bd_v5.csv')\n",
        "data.sample(5)"
      ],
      "execution_count":1178,
      "outputs":[
        {
          "data":{
            "text\/html":[
              "<div>\n",
              "<style scoped>\n",
              "    .dataframe tbody tr th:only-of-type {\n",
              "        vertical-align: middle;\n",
              "    }\n",
              "\n",
              "    .dataframe tbody tr th {\n",
              "        vertical-align: top;\n",
              "    }\n",
              "\n",
              "    .dataframe thead th {\n",
              "        text-align: right;\n",
              "    }\n",
              "<\/style>\n",
              "<table border=\"1\" class=\"dataframe\">\n",
              "  <thead>\n",
              "    <tr style=\"text-align: right;\">\n",
              "      <th><\/th>\n",
              "      <th>imdb_id<\/th>\n",
              "      <th>budget<\/th>\n",
              "      <th>revenue<\/th>\n",
              "      <th>original_title<\/th>\n",
              "      <th>cast<\/th>\n",
              "      <th>director<\/th>\n",
              "      <th>tagline<\/th>\n",
              "      <th>overview<\/th>\n",
              "      <th>runtime<\/th>\n",
              "      <th>genres<\/th>\n",
              "      <th>production_companies<\/th>\n",
              "      <th>release_date<\/th>\n",
              "      <th>vote_average<\/th>\n",
              "      <th>release_year<\/th>\n",
              "    <\/tr>\n",
              "  <\/thead>\n",
              "  <tbody>\n",
              "    <tr>\n",
              "      <th>1704<\/th>\n",
              "      <td>tt0462538<\/td>\n",
              "      <td>75000000<\/td>\n",
              "      <td>527068851<\/td>\n",
              "      <td>The Simpsons Movie<\/td>\n",
              "      <td>Dan Castellaneta|Julie Kavner|Nancy Cartwright...<\/td>\n",
              "      <td>David Silverman<\/td>\n",
              "      <td>See our family. And feel better about yours.<\/td>\n",
              "      <td>After Homer accidentally pollutes the town's w...<\/td>\n",
              "      <td>87<\/td>\n",
              "      <td>Animation|Comedy|Family<\/td>\n",
              "      <td>Gracie Films|Twentieth Century Fox Film Corpor...<\/td>\n",
              "      <td>7\/25\/2007<\/td>\n",
              "      <td>6.9<\/td>\n",
              "      <td>2007<\/td>\n",
              "    <\/tr>\n",
              "    <tr>\n",
              "      <th>1562<\/th>\n",
              "      <td>tt0317198<\/td>\n",
              "      <td>50000000<\/td>\n",
              "      <td>40203020<\/td>\n",
              "      <td>Bridget Jones: The Edge of Reason<\/td>\n",
              "      <td>RenÃ©e Zellweger|Hugh Grant|Colin Firth|Jim Br...<\/td>\n",
              "      <td>Beeban Kidron<\/td>\n",
              "      <td>Same Bridget. Brand new diary.<\/td>\n",
              "      <td>The story picks up four weeks after the first ...<\/td>\n",
              "      <td>108<\/td>\n",
              "      <td>Comedy|Romance<\/td>\n",
              "      <td>Miramax Films|Universal Pictures|Studio Canal|...<\/td>\n",
              "      <td>11\/10\/2004<\/td>\n",
              "      <td>6.0<\/td>\n",
              "      <td>2004<\/td>\n",
              "    <\/tr>\n",
              "    <tr>\n",
              "      <th>401<\/th>\n",
              "      <td>tt0429493<\/td>\n",
              "      <td>110000000<\/td>\n",
              "      <td>177238796<\/td>\n",
              "      <td>The A-Team<\/td>\n",
              "      <td>Liam Neeson|Bradley Cooper|Jessica Biel|Sharlt...<\/td>\n",
              "      <td>Joe Carnahan<\/td>\n",
              "      <td>There Is No Plan B<\/td>\n",
              "      <td>A group of Iraq War veterans goes on the run f...<\/td>\n",
              "      <td>117<\/td>\n",
              "      <td>Thriller|Action|Adventure|Comedy|Crime<\/td>\n",
              "      <td>20th Century Fox<\/td>\n",
              "      <td>6\/10\/2010<\/td>\n",
              "      <td>6.2<\/td>\n",
              "      <td>2010<\/td>\n",
              "    <\/tr>\n",
              "    <tr>\n",
              "      <th>1464<\/th>\n",
              "      <td>tt0424095<\/td>\n",
              "      <td>149000000<\/td>\n",
              "      <td>64459316<\/td>\n",
              "      <td>Flushed Away<\/td>\n",
              "      <td>Hugh Jackman|Kate Winslet|Ian McKellen|Jean Re...<\/td>\n",
              "      <td>David Bowers|Sam Fell<\/td>\n",
              "      <td>Someone's Going Down<\/td>\n",
              "      <td>London high-society mouse, Roddy is flushed do...<\/td>\n",
              "      <td>85<\/td>\n",
              "      <td>Adventure|Animation|Comedy|Family<\/td>\n",
              "      <td>Aardman Animations|DreamWorks Animation<\/td>\n",
              "      <td>10\/22\/2006<\/td>\n",
              "      <td>6.0<\/td>\n",
              "      <td>2006<\/td>\n",
              "    <\/tr>\n",
              "    <tr>\n",
              "      <th>860<\/th>\n",
              "      <td>tt1702443<\/td>\n",
              "      <td>13000000<\/td>\n",
              "      <td>98441954<\/td>\n",
              "      <td>Justin Bieber: Never Say Never<\/td>\n",
              "      <td>Justin Bieber|Miley Cyrus|Usher Raymond|Jaden ...<\/td>\n",
              "      <td>Jon M. Chu<\/td>\n",
              "      <td>Find out what's possible if you never give up.<\/td>\n",
              "      <td>Tells the story of Justin Bieber, the kid from...<\/td>\n",
              "      <td>105<\/td>\n",
              "      <td>Documentary|Music|Family<\/td>\n",
              "      <td>Insurge Pictures|Magical Elves Productions|Sco...<\/td>\n",
              "      <td>2\/11\/2011<\/td>\n",
              "      <td>5.3<\/td>\n",
              "      <td>2011<\/td>\n",
              "    <\/tr>\n",
              "  <\/tbody>\n",
              "<\/table>\n",
              "<\/div>"
            ]
          },
          "metadata":{
            
          },
          "output_type":"display_data"
        }
      ],
      "metadata":{
        
      }
    },
    {
      "cell_type":"code",
      "source":[
        "data.describe()"
      ],
      "execution_count":1179,
      "outputs":[
        {
          "data":{
            "text\/html":[
              "<div>\n",
              "<style scoped>\n",
              "    .dataframe tbody tr th:only-of-type {\n",
              "        vertical-align: middle;\n",
              "    }\n",
              "\n",
              "    .dataframe tbody tr th {\n",
              "        vertical-align: top;\n",
              "    }\n",
              "\n",
              "    .dataframe thead th {\n",
              "        text-align: right;\n",
              "    }\n",
              "<\/style>\n",
              "<table border=\"1\" class=\"dataframe\">\n",
              "  <thead>\n",
              "    <tr style=\"text-align: right;\">\n",
              "      <th><\/th>\n",
              "      <th>budget<\/th>\n",
              "      <th>revenue<\/th>\n",
              "      <th>runtime<\/th>\n",
              "      <th>vote_average<\/th>\n",
              "      <th>release_year<\/th>\n",
              "    <\/tr>\n",
              "  <\/thead>\n",
              "  <tbody>\n",
              "    <tr>\n",
              "      <th>count<\/th>\n",
              "      <td>1.889000e+03<\/td>\n",
              "      <td>1.889000e+03<\/td>\n",
              "      <td>1889.000000<\/td>\n",
              "      <td>1889.000000<\/td>\n",
              "      <td>1889.000000<\/td>\n",
              "    <\/tr>\n",
              "    <tr>\n",
              "      <th>mean<\/th>\n",
              "      <td>5.431083e+07<\/td>\n",
              "      <td>1.553653e+08<\/td>\n",
              "      <td>109.658549<\/td>\n",
              "      <td>6.140762<\/td>\n",
              "      <td>2007.860773<\/td>\n",
              "    <\/tr>\n",
              "    <tr>\n",
              "      <th>std<\/th>\n",
              "      <td>4.858721e+07<\/td>\n",
              "      <td>2.146698e+08<\/td>\n",
              "      <td>18.017041<\/td>\n",
              "      <td>0.764763<\/td>\n",
              "      <td>4.468841<\/td>\n",
              "    <\/tr>\n",
              "    <tr>\n",
              "      <th>min<\/th>\n",
              "      <td>5.000000e+06<\/td>\n",
              "      <td>2.033165e+06<\/td>\n",
              "      <td>63.000000<\/td>\n",
              "      <td>3.300000<\/td>\n",
              "      <td>2000.000000<\/td>\n",
              "    <\/tr>\n",
              "    <tr>\n",
              "      <th>25%<\/th>\n",
              "      <td>2.000000e+07<\/td>\n",
              "      <td>3.456058e+07<\/td>\n",
              "      <td>97.000000<\/td>\n",
              "      <td>5.600000<\/td>\n",
              "      <td>2004.000000<\/td>\n",
              "    <\/tr>\n",
              "    <tr>\n",
              "      <th>50%<\/th>\n",
              "      <td>3.800000e+07<\/td>\n",
              "      <td>8.361541e+07<\/td>\n",
              "      <td>107.000000<\/td>\n",
              "      <td>6.100000<\/td>\n",
              "      <td>2008.000000<\/td>\n",
              "    <\/tr>\n",
              "    <tr>\n",
              "      <th>75%<\/th>\n",
              "      <td>7.200000e+07<\/td>\n",
              "      <td>1.782626e+08<\/td>\n",
              "      <td>120.000000<\/td>\n",
              "      <td>6.600000<\/td>\n",
              "      <td>2012.000000<\/td>\n",
              "    <\/tr>\n",
              "    <tr>\n",
              "      <th>max<\/th>\n",
              "      <td>3.800000e+08<\/td>\n",
              "      <td>2.781506e+09<\/td>\n",
              "      <td>214.000000<\/td>\n",
              "      <td>8.100000<\/td>\n",
              "      <td>2015.000000<\/td>\n",
              "    <\/tr>\n",
              "  <\/tbody>\n",
              "<\/table>\n",
              "<\/div>"
            ]
          },
          "metadata":{
            
          },
          "output_type":"display_data"
        }
      ],
      "metadata":{
        
      }
    },
    {
      "cell_type":"markdown",
      "source":[
        "# Предобработка"
      ],
      "attachments":{
        
      },
      "metadata":{
        
      }
    },
    {
      "cell_type":"code",
      "source":[
        "answers = {} # создадим словарь для ответов\n",
        "data.insert(3, \"profit\",data.revenue-data.budget) \n",
        "\n"
      ],
      "execution_count":1180,
      "outputs":[
        
      ],
      "metadata":{
        
      }
    },
    {
      "cell_type":"markdown",
      "source":[
        "# 1. У какого фильма из списка самый большой бюджет?"
      ],
      "attachments":{
        
      },
      "metadata":{
        
      }
    },
    {
      "cell_type":"code",
      "source":[
        "data.iloc[data.budget.idxmax(),0:4:3][1]"
      ],
      "execution_count":1181,
      "outputs":[
        {
          "data":{
            "text\/plain":[
              "641683000"
            ]
          },
          "metadata":{
            
          },
          "output_type":"display_data"
        }
      ],
      "metadata":{
        
      }
    },
    {
      "cell_type":"markdown",
      "source":[
        "# Вариант 2"
      ],
      "attachments":{
        
      },
      "metadata":{
        
      }
    },
    {
      "cell_type":"code",
      "source":[
        "top_budget_movie = data.nlargest(1, columns=[\"budget\"])[\"original_title\"]\n",
        "answers['1'] = top_budget_movie \n",
        "answers['1']"
      ],
      "execution_count":1182,
      "outputs":[
        {
          "data":{
            "text\/plain":[
              "723    Pirates of the Caribbean: On Stranger Tides\n",
              "Name: original_title, dtype: object"
            ]
          },
          "metadata":{
            
          },
          "output_type":"display_data"
        }
      ],
      "metadata":{
        
      }
    },
    {
      "cell_type":"markdown",
      "source":[
        "# 2. Какой из фильмов самый длительный (в минутах)?"
      ],
      "attachments":{
        
      },
      "metadata":{
        
      }
    },
    {
      "cell_type":"code",
      "source":[
        "answers['2']=data.iloc[data.runtime.idxmax(),0:4:3][1]\n",
        "answers['2']"
      ],
      "execution_count":1183,
      "outputs":[
        {
          "data":{
            "text\/plain":[
              "-43076064"
            ]
          },
          "metadata":{
            
          },
          "output_type":"display_data"
        }
      ],
      "metadata":{
        
      }
    },
    {
      "cell_type":"code",
      "source":[
        "\n",
        " data.nlargest(1, columns=[\"runtime\"])[\"original_title\"]"
      ],
      "execution_count":1184,
      "outputs":[
        {
          "data":{
            "text\/plain":[
              "1157    Gods and Generals\n",
              "Name: original_title, dtype: object"
            ]
          },
          "metadata":{
            
          },
          "output_type":"display_data"
        }
      ],
      "metadata":{
        
      }
    },
    {
      "cell_type":"markdown",
      "source":[
        "# 3. Какой из фильмов самый короткий (в минутах)?\n",
        "\n",
        "\n"
      ],
      "attachments":{
        
      },
      "metadata":{
        
      }
    },
    {
      "cell_type":"code",
      "source":[
        "answers['3'] = data.iloc[data.runtime.idxmin(),0:4:3][1]\n",
        "answers['3'] "
      ],
      "execution_count":1185,
      "outputs":[
        {
          "data":{
            "text\/plain":[
              "-15540000"
            ]
          },
          "metadata":{
            
          },
          "output_type":"display_data"
        }
      ],
      "metadata":{
        
      }
    },
    {
      "cell_type":"code",
      "source":[
        "data.nsmallest(1, columns=[\"runtime\"])[\"original_title\"]"
      ],
      "execution_count":1186,
      "outputs":[
        {
          "data":{
            "text\/plain":[
              "768    Winnie the Pooh\n",
              "Name: original_title, dtype: object"
            ]
          },
          "metadata":{
            
          },
          "output_type":"display_data"
        }
      ],
      "metadata":{
        
      }
    },
    {
      "cell_type":"markdown",
      "source":[
        "# 4. Какова средняя длительность фильмов?"
      ],
      "attachments":{
        
      },
      "metadata":{
        
      }
    },
    {
      "cell_type":"code",
      "source":[
        "answers['4']=data.runtime.mean()\n",
        "answers['4']"
      ],
      "execution_count":1187,
      "outputs":[
        {
          "data":{
            "text\/plain":[
              "109.6585494970884"
            ]
          },
          "metadata":{
            
          },
          "output_type":"display_data"
        }
      ],
      "metadata":{
        
      }
    },
    {
      "cell_type":"markdown",
      "source":[
        "# 5. Каково медианное значение длительности фильмов? "
      ],
      "attachments":{
        
      },
      "metadata":{
        
      }
    },
    {
      "cell_type":"code",
      "source":[
        "answers['5']=data.runtime.median()\n",
        "answers['5']"
      ],
      "execution_count":1188,
      "outputs":[
        {
          "data":{
            "text\/plain":[
              "107.0"
            ]
          },
          "metadata":{
            
          },
          "output_type":"display_data"
        }
      ],
      "metadata":{
        
      }
    },
    {
      "cell_type":"markdown",
      "source":[
        "# 6. Какой самый прибыльный фильм?\n",
        "#### Внимание! Здесь и далее под «прибылью» или «убытками» понимается разность между сборами и бюджетом фильма. (прибыль = сборы - бюджет) в нашем датасете это будет (profit = revenue - budget) "
      ],
      "attachments":{
        
      },
      "metadata":{
        
      }
    },
    {
      "cell_type":"code",
      "source":[
        "answers['6']=data.iloc[data.profit.idxmax(),0:5:4][1]\n",
        "answers['6']"
      ],
      "execution_count":1189,
      "outputs":[
        {
          "data":{
            "text\/plain":[
              "'Avatar'"
            ]
          },
          "metadata":{
            
          },
          "output_type":"display_data"
        }
      ],
      "metadata":{
        
      }
    },
    {
      "cell_type":"markdown",
      "source":[
        "# 7. Какой фильм самый убыточный? "
      ],
      "attachments":{
        
      },
      "metadata":{
        
      }
    },
    {
      "cell_type":"code",
      "source":[
        "answers['7']=data.iloc[data.profit.idxmin(),0:5:4][1]\n",
        "answers['7']"
      ],
      "execution_count":1190,
      "outputs":[
        {
          "data":{
            "text\/plain":[
              "'The Lone Ranger'"
            ]
          },
          "metadata":{
            
          },
          "output_type":"display_data"
        }
      ],
      "metadata":{
        
      }
    },
    {
      "cell_type":"markdown",
      "source":[
        "# 8. У скольких фильмов из датасета объем сборов оказался выше бюджета?"
      ],
      "attachments":{
        
      },
      "metadata":{
        
      }
    },
    {
      "cell_type":"code",
      "source":[
        "answers['8']=data[data.profit>0].imdb_id.count()\n",
        "answers['8']"
      ],
      "execution_count":1191,
      "outputs":[
        {
          "data":{
            "text\/plain":[
              "1478"
            ]
          },
          "metadata":{
            
          },
          "output_type":"display_data"
        }
      ],
      "metadata":{
        
      }
    },
    {
      "cell_type":"markdown",
      "source":[
        "# 9. Какой фильм оказался самым кассовым в 2008 году?"
      ],
      "attachments":{
        
      },
      "metadata":{
        
      }
    },
    {
      "cell_type":"code",
      "source":[
        "answers['9']=data.iloc[data[data.release_year==2008].profit.idxmax(),0:5:4][1]\n",
        "answers['9']"
      ],
      "execution_count":1192,
      "outputs":[
        {
          "data":{
            "text\/plain":[
              "'The Dark Knight'"
            ]
          },
          "metadata":{
            
          },
          "output_type":"display_data"
        }
      ],
      "metadata":{
        
      }
    },
    {
      "cell_type":"markdown",
      "source":[
        "# 10. Самый убыточный фильм за период с 2012 по 2014 г. (включительно)?"
      ],
      "attachments":{
        
      },
      "metadata":{
        
      }
    },
    {
      "cell_type":"code",
      "source":[
        "answers['10']=data.iloc[data[(data.release_year>=2012)&(data.release_year<=2014)]\\\n",
        "    .profit.idxmin(),0:5:4][1]\n",
        "answers['10']"
      ],
      "execution_count":1193,
      "outputs":[
        {
          "data":{
            "text\/plain":[
              "'The Lone Ranger'"
            ]
          },
          "metadata":{
            
          },
          "output_type":"display_data"
        }
      ],
      "metadata":{
        
      }
    },
    {
      "cell_type":"markdown",
      "source":[
        "# 11. Какого жанра фильмов больше всего?"
      ],
      "attachments":{
        
      },
      "metadata":{
        
      }
    },
    {
      "cell_type":"code",
      "source":[
        "# эту задачу тоже можно решать разными подходами, попробуй реализовать разные варианты\n",
        "# если будешь добавлять функцию - выноси ее в предобработку что в начале\n",
        "data_genres=data.genres.str.split('|')\n",
        "count = Counter()\n",
        "\n",
        "for lists in data_genres:\n",
        "    for word in lists:\n",
        "        count[word]+=1 \n",
        "answers['11']=count.most_common(1)\n",
        "answers['11']"
      ],
      "execution_count":1194,
      "outputs":[
        {
          "data":{
            "text\/plain":[
              "[('Drama', 782)]"
            ]
          },
          "metadata":{
            
          },
          "output_type":"display_data"
        }
      ],
      "metadata":{
        
      }
    },
    {
      "cell_type":"markdown",
      "source":[
        "# 12. Фильмы какого жанра чаще всего становятся прибыльными? "
      ],
      "attachments":{
        
      },
      "metadata":{
        
      }
    },
    {
      "cell_type":"code",
      "source":[
        "data_genres_profit=data.genres[data.profit>0].str.split('|')\n",
        "count = Counter()\n",
        "\n",
        "for lists in data_genres_profit:\n",
        "    for word in lists:\n",
        "        count[word]+=1\n",
        "answers['12']=count.most_common(1)\n",
        "answers['12']"
      ],
      "execution_count":1195,
      "outputs":[
        {
          "data":{
            "text\/plain":[
              "[('Drama', 560)]"
            ]
          },
          "metadata":{
            
          },
          "output_type":"display_data"
        }
      ],
      "metadata":{
        
      }
    },
    {
      "cell_type":"markdown",
      "source":[
        "# 13. У какого режиссера самые большие суммарные кассовые сборы?"
      ],
      "attachments":{
        
      },
      "metadata":{
        
      }
    },
    {
      "cell_type":"code",
      "source":[
        "data_director=data.copy()\n",
        "data_director.director = data.director.str.split('|') \n",
        "data_director = data_director.explode('director') \n",
        "answers['13']=data_director.groupby(['director'])['revenue'].sum()\\\n",
        "    .sort_values(ascending=False).index[0]\n",
        "answers['13']"
      ],
      "execution_count":1196,
      "outputs":[
        {
          "data":{
            "text\/plain":[
              "'Peter Jackson'"
            ]
          },
          "metadata":{
            
          },
          "output_type":"display_data"
        }
      ],
      "metadata":{
        
      }
    },
    {
      "cell_type":"markdown",
      "source":[
        "# Вариант 2"
      ],
      "attachments":{
        
      },
      "metadata":{
        
      }
    },
    {
      "cell_type":"code",
      "source":[
        "answers['13']=data.groupby('director')['revenue'].sum()\\\n",
        "    .sort_values(ascending=False).index[0]\n",
        "answers['13']"
      ],
      "execution_count":1197,
      "outputs":[
        {
          "data":{
            "text\/plain":[
              "'Peter Jackson'"
            ]
          },
          "metadata":{
            
          },
          "output_type":"display_data"
        }
      ],
      "metadata":{
        
      }
    },
    {
      "cell_type":"markdown",
      "source":[
        "# 14. Какой режисер снял больше всего фильмов в стиле Action?"
      ],
      "attachments":{
        
      },
      "metadata":{
        
      }
    },
    {
      "cell_type":"code",
      "source":[
        "data_genres=data.copy()\n",
        "data_genres.genres=data_genres.genres.str.split('|')\n",
        "data_genres=data_genres.explode('genres')\n",
        "data_genres=data_genres[data_genres.genres=='Action']\n",
        "data_genres.director=data_genres.director.str.split('|')\n",
        "data_genres=data_genres.explode('director')\n",
        "answers['14']=data_genres.director.value_counts().index[0]\n",
        "answers['14']"
      ],
      "execution_count":1198,
      "outputs":[
        {
          "data":{
            "text\/plain":[
              "'Robert Rodriguez'"
            ]
          },
          "metadata":{
            
          },
          "output_type":"display_data"
        }
      ],
      "metadata":{
        
      }
    },
    {
      "cell_type":"markdown",
      "source":[
        "# 15. Фильмы с каким актером принесли самые высокие кассовые сборы в 2012 году? "
      ],
      "attachments":{
        
      },
      "metadata":{
        
      }
    },
    {
      "cell_type":"code",
      "source":[
        "data_2012=data.copy()\n",
        "data_2012=data_2012[data_2012.release_year==2012]\n",
        "data_2012.cast=data_2012.cast.str.split('|')\n",
        "data_2012=data_2012.explode('cast')\n",
        "answers['15']=data_2012.groupby(['cast'])['revenue'].sum().sort_values(ascending=False).index[0]\n",
        "answers['15']"
      ],
      "execution_count":1199,
      "outputs":[
        {
          "data":{
            "text\/plain":[
              "'Chris Hemsworth'"
            ]
          },
          "metadata":{
            
          },
          "output_type":"display_data"
        }
      ],
      "metadata":{
        
      }
    },
    {
      "cell_type":"markdown",
      "source":[
        "# 16. Какой актер снялся в большем количестве высокобюджетных фильмов?"
      ],
      "attachments":{
        
      },
      "metadata":{
        
      }
    },
    {
      "cell_type":"code",
      "source":[
        "data_cast_mean_budget=data[data.budget>data.budget.mean()].copy()\n",
        "answers['16']=data_cast_mean_budget.cast.str.split('|').explode().value_counts().index[0]\n",
        "answers['16']\n"
      ],
      "execution_count":1200,
      "outputs":[
        {
          "data":{
            "text\/plain":[
              "'Matt Damon'"
            ]
          },
          "metadata":{
            
          },
          "output_type":"display_data"
        }
      ],
      "metadata":{
        
      }
    },
    {
      "cell_type":"markdown",
      "source":[
        "# 17. В фильмах какого жанра больше всего снимался Nicolas Cage? "
      ],
      "attachments":{
        
      },
      "metadata":{
        
      }
    },
    {
      "cell_type":"code",
      "source":[
        "data_nicolas_cage=data[data.cast.str.contains('Nicolas Cage')==True]\n",
        "answers['17']=data_nicolas_cage.genres.str.split('|').explode().value_counts().index[0]\n",
        "answers['17']\n"
      ],
      "execution_count":1201,
      "outputs":[
        {
          "data":{
            "text\/plain":[
              "'Action'"
            ]
          },
          "metadata":{
            
          },
          "output_type":"display_data"
        }
      ],
      "metadata":{
        
      }
    },
    {
      "cell_type":"markdown",
      "source":[
        "# 18. Самый убыточный фильм от Paramount Pictures"
      ],
      "attachments":{
        
      },
      "metadata":{
        
      }
    },
    {
      "cell_type":"code",
      "source":[
        "data_loss_pp=data[data.production_companies\\\n",
        "    .str.contains('Paramount Pictures')]\n",
        "answers['18']=data_loss_pp.loc[data_loss_pp.profit.idxmin()][4]\n",
        "answers['18']"
      ],
      "execution_count":1202,
      "outputs":[
        {
          "data":{
            "text\/plain":[
              "'K-19: The Widowmaker'"
            ]
          },
          "metadata":{
            
          },
          "output_type":"display_data"
        }
      ],
      "metadata":{
        
      }
    },
    {
      "cell_type":"markdown",
      "source":[
        "# 19. Какой год стал самым успешным по суммарным кассовым сборам?"
      ],
      "attachments":{
        
      },
      "metadata":{
        
      }
    },
    {
      "cell_type":"code",
      "source":[
        "data_year_profit=data.groupby(['release_year']).sum()\n",
        "answers['19']=data_year_profit.sort_values('revenue',ascending=False).index[0]\n",
        "answers['19']"
      ],
      "execution_count":1203,
      "outputs":[
        {
          "data":{
            "text\/plain":[
              "2015"
            ]
          },
          "metadata":{
            
          },
          "output_type":"display_data"
        }
      ],
      "metadata":{
        
      }
    },
    {
      "cell_type":"markdown",
      "source":[
        "# 20. Какой самый прибыльный год для студии Warner Bros?"
      ],
      "attachments":{
        
      },
      "metadata":{
        
      }
    },
    {
      "cell_type":"code",
      "source":[
        "data_profit_wb=data[data.production_companies\\\n",
        "    .str.contains('Warner Bros')]\n",
        "answers['20']=data_profit_wb.groupby(['release_year']).sum().sort_values('revenue',ascending=False).index[0]\n",
        "answers['20']"
      ],
      "execution_count":1204,
      "outputs":[
        {
          "data":{
            "text\/plain":[
              "2014"
            ]
          },
          "metadata":{
            
          },
          "output_type":"display_data"
        }
      ],
      "metadata":{
        
      }
    },
    {
      "cell_type":"markdown",
      "source":[
        "# 21. В каком месяце за все годы суммарно вышло больше всего фильмов?"
      ],
      "attachments":{
        
      },
      "metadata":{
        
      }
    },
    {
      "cell_type":"code",
      "source":[
        "data_month_profit=data.copy()\n",
        "data_month_profit.release_date=pd.to_datetime(data_month_profit.release_date).dt.month\n",
        "answers['21']=data_month_profit.groupby(['release_date']).count().idxmax()[0]\n",
        "answers['21']\n",
        "\n"
      ],
      "execution_count":1205,
      "outputs":[
        {
          "data":{
            "text\/plain":[
              "9"
            ]
          },
          "metadata":{
            
          },
          "output_type":"display_data"
        }
      ],
      "metadata":{
        
      }
    },
    {
      "cell_type":"markdown",
      "source":[
        "# 22. Сколько суммарно вышло фильмов летом? (за июнь, июль, август)"
      ],
      "attachments":{
        
      },
      "metadata":{
        
      }
    },
    {
      "cell_type":"code",
      "source":[
        "data_month_profit=data.copy()\n",
        "data_month_profit.release_date=pd.to_datetime(data_month_profit.release_date).dt.month\n",
        "answers['22']=data_month_profit[(data_month_profit.release_date>5)&(data_month_profit.release_date<9)].count()[0]\n",
        "answers['22']"
      ],
      "execution_count":1206,
      "outputs":[
        {
          "data":{
            "text\/plain":[
              "450"
            ]
          },
          "metadata":{
            
          },
          "output_type":"display_data"
        }
      ],
      "metadata":{
        
      }
    },
    {
      "cell_type":"markdown",
      "source":[
        "# 23. Для какого режиссера зима – самое продуктивное время года? "
      ],
      "attachments":{
        
      },
      "metadata":{
        
      }
    },
    {
      "cell_type":"code",
      "source":[
        "data_director_winter=data.copy()\n",
        "data_director_winter.release_date=pd.to_datetime(data_director_winter.release_date).dt.month\n",
        "data_director_winter=data_director_winter[(data_director_winter.release_date>11)|(data_director_winter.release_date<3)]\n",
        "answers['23']=data_director_winter.director.str.split('|').explode().value_counts().index[0]\n",
        "answers['23']"
      ],
      "execution_count":1207,
      "outputs":[
        {
          "data":{
            "text\/plain":[
              "'Peter Jackson'"
            ]
          },
          "metadata":{
            
          },
          "output_type":"display_data"
        }
      ],
      "metadata":{
        
      }
    },
    {
      "cell_type":"code",
      "source":[
        "winter_director = data.copy()\n",
        "winter_director['director'] = winter_director['director'].str.split('|')\n",
        "winter_director = winter_director.explode('director')\n",
        "winter_director['release_date'] = winter_director['release_date'].dt.month.isin([12, 1, 2])\n",
        "=winter_director.groupby('director')['release_date'].sum().sort_values(ascending=False)"
      ],
      "execution_count":1208,
      "outputs":[
        {
          "ename":"SyntaxError",
          "evalue":"SyntaxError: invalid syntax (<ipython-input-1208-87f58d69f627>, line 5)",
          "traceback":[
            "\u001b[0;31m---------------------------------------------------------------------------",
            "Traceback (most recent call last)",
            "SyntaxError: invalid syntax (<ipython-input-1208-87f58d69f627>, line 5)"
          ],
          "output_type":"error"
        }
      ],
      "metadata":{
        
      }
    },
    {
      "cell_type":"code",
      "source":[
        "\n",
        "data['month'] = pd.to_datetime(data.release_date).dt.month\n",
        "data['month'].value_counts()"
      ],
      "execution_count":1209,
      "outputs":[
        {
          "data":{
            "text\/plain":[
              "9     227\n",
              "12    190\n",
              "10    186\n",
              "8     161\n",
              "3     156\n",
              "4     149\n",
              "6     147\n",
              "11    146\n",
              "7     142\n",
              "5     140\n",
              "2     135\n",
              "1     110\n",
              "Name: month, dtype: int64"
            ]
          },
          "metadata":{
            
          },
          "output_type":"display_data"
        }
      ],
      "metadata":{
        
      }
    },
    {
      "cell_type":"markdown",
      "source":[
        "# 24. Какая студия дает самые длинные названия своим фильмам по количеству символов?"
      ],
      "attachments":{
        
      },
      "metadata":{
        
      }
    },
    {
      "cell_type":"code",
      "source":[
        "data_title=data.copy()\n",
        "data_title['production_companies']=data_title.production_companies.str.split('|')\n",
        "data_title=data_title.explode('production_companies')\n",
        "data_title['original_title']=data_title['original_title'].str.len()\n",
        "answers['24']=data_title.groupby('production_companies').mean()[['original_title']].sort_values(by='original_title',ascending=False).index[0]\n",
        "answers['24']"
      ],
      "execution_count":1210,
      "outputs":[
        {
          "data":{
            "text\/plain":[
              "'Four By Two Productions'"
            ]
          },
          "metadata":{
            
          },
          "output_type":"display_data"
        }
      ],
      "metadata":{
        
      }
    },
    {
      "cell_type":"markdown",
      "source":[
        "# 25. Описание фильмов какой студии в среднем самые длинные по количеству слов?"
      ],
      "attachments":{
        
      },
      "metadata":{
        
      }
    },
    {
      "cell_type":"code",
      "source":[
        "data_tagline_long= data.copy()\n",
        "data_tagline_long['overview_words_length'] = data_tagline_long.overview.map(lambda x: len(x.split(' ')))#\n",
        "data_tagline_long['production_companies'] = data_tagline_long['production_companies'].str.split('|')#компаний может быть несколько, преобразуем в список\n",
        "data_tagline_long = data_tagline_long.explode('production_companies')\n",
        "answers['25'] =data_tagline_long.groupby('production_companies')['overview_words_length'].mean().sort_values(ascending=False).index[0]\n",
        "answers['25']\n"
      ],
      "execution_count":1211,
      "outputs":[
        {
          "data":{
            "text\/plain":[
              "'Midnight Picture Show'"
            ]
          },
          "metadata":{
            
          },
          "output_type":"display_data"
        }
      ],
      "metadata":{
        
      }
    },
    {
      "cell_type":"markdown",
      "source":[
        "# 26. Какие фильмы входят в 1 процент лучших по рейтингу? \n",
        "по vote_average"
      ],
      "attachments":{
        
      },
      "metadata":{
        
      }
    },
    {
      "cell_type":"code",
      "source":[
        "percent_rating_value = 1\n",
        "\n",
        "answers['26']=data.original_title[data.vote_average.sort_values(ascending=False)\n",
        "                    [0:round(percent_rating_value*len(data)\/100)-1].index]\n",
        "answers['26']"
      ],
      "execution_count":1212,
      "outputs":[
        {
          "data":{
            "text\/plain":[
              "599                                   The Dark Knight\n",
              "118                                      Interstellar\n",
              "125                                The Imitation Game\n",
              "9                                          Inside Out\n",
              "34                                               Room\n",
              "1183                          The Wolf of Wall Street\n",
              "128                                         Gone Girl\n",
              "1191                                 12 Years a Slave\n",
              "119                           Guardians of the Galaxy\n",
              "1081    The Lord of the Rings: The Return of the King\n",
              "1800                                          Memento\n",
              "370                                         Inception\n",
              "872                                       The Pianist\n",
              "138                          The Grand Budapest Hotel\n",
              "1188                                              Her\n",
              "28                                          Spotlight\n",
              "124                                        Big Hero 6\n",
              "177                            The Fault in Our Stars\n",
              "Name: original_title, dtype: object"
            ]
          },
          "metadata":{
            
          },
          "output_type":"display_data"
        }
      ],
      "metadata":{
        
      }
    },
    {
      "cell_type":"markdown",
      "source":[
        "# 27. Какие актеры чаще всего снимаются в одном фильме вместе?"
      ],
      "attachments":{
        
      },
      "metadata":{
        
      }
    },
    {
      "cell_type":"code",
      "source":[
        
      ],
      "execution_count":null,
      "outputs":[
        
      ],
      "metadata":{
        
      }
    },
    {
      "cell_type":"code",
      "source":[
        "from itertools import combinations\n",
        "data_cast_friend=data.copy()\n",
        "data_cast_friend=data_cast_friend.iloc[:, 0:5:4]\n",
        "data_cast_friend=data_cast_friend.cast.str.split('|').explode()\n",
        "#data_cast_friend=data_cast_friend.value_counts()>7\n",
        "data_cast_friend\n",
        "#t=list(combinations(data_cast_friend, 2)) "
      ],
      "execution_count":1213,
      "outputs":[
        {
          "ename":"AttributeError",
          "evalue":"AttributeError: 'DataFrame' object has no attribute 'cast'",
          "traceback":[
            "\u001b[0;31m---------------------------------------------------------------------------",
            "Traceback (most recent call last)",
            "    at line 4 in <module>",
            "AttributeError: 'DataFrame' object has no attribute 'cast'"
          ],
          "output_type":"error"
        }
      ],
      "metadata":{
        
      }
    },
    {
      "cell_type":"code",
      "source":[
        
      ],
      "execution_count":null,
      "outputs":[
        
      ],
      "metadata":{
        
      }
    },
    {
      "cell_type":"markdown",
      "source":[
        "# Submission"
      ],
      "attachments":{
        
      },
      "metadata":{
        
      }
    },
    {
      "cell_type":"code",
      "source":[
        "# в конце можно посмотреть свои ответы к каждому вопросу\n",
        "answers"
      ],
      "execution_count":1214,
      "outputs":[
        {
          "data":{
            "text\/plain":[
              "{'1': 723    Pirates of the Caribbean: On Stranger Tides\n",
              " Name: original_title, dtype: object,\n",
              " '2': -43076064,\n",
              " '3': -15540000,\n",
              " '4': 109.6585494970884,\n",
              " '5': 107.0,\n",
              " '6': 'Avatar',\n",
              " '7': 'The Lone Ranger',\n",
              " '8': 1478,\n",
              " '9': 'The Dark Knight',\n",
              " '10': 'The Lone Ranger',\n",
              " '11': [('Drama', 782)],\n",
              " '12': [('Drama', 560)],\n",
              " '13': 'Peter Jackson',\n",
              " '14': 'Robert Rodriguez',\n",
              " '15': 'Chris Hemsworth',\n",
              " '16': 'Matt Damon',\n",
              " '17': 'Action',\n",
              " '18': 'K-19: The Widowmaker',\n",
              " '19': 2015,\n",
              " '20': 2014,\n",
              " '21': 9,\n",
              " '22': 450,\n",
              " '23': 'Peter Jackson',\n",
              " '24': 'Four By Two Productions',\n",
              " '25': 'Midnight Picture Show',\n",
              " '26': 599                                   The Dark Knight\n",
              " 118                                      Interstellar\n",
              " 125                                The Imitation Game\n",
              " 9                                          Inside Out\n",
              " 34                                               Room\n",
              " 1183                          The Wolf of Wall Street\n",
              " 128                                         Gone Girl\n",
              " 1191                                 12 Years a Slave\n",
              " 119                           Guardians of the Galaxy\n",
              " 1081    The Lord of the Rings: The Return of the King\n",
              " 1800                                          Memento\n",
              " 370                                         Inception\n",
              " 872                                       The Pianist\n",
              " 138                          The Grand Budapest Hotel\n",
              " 1188                                              Her\n",
              " 28                                          Spotlight\n",
              " 124                                        Big Hero 6\n",
              " 177                            The Fault in Our Stars\n",
              " Name: original_title, dtype: object}"
            ]
          },
          "metadata":{
            
          },
          "output_type":"display_data"
        }
      ],
      "metadata":{
        
      }
    },
    {
      "cell_type":"code",
      "source":[
        "# и убедиться что ни чего не пропустил)\n",
        "len(answers)"
      ],
      "execution_count":1215,
      "outputs":[
        {
          "data":{
            "text\/plain":[
              "26"
            ]
          },
          "metadata":{
            
          },
          "output_type":"display_data"
        }
      ],
      "metadata":{
        
      }
    }
  ],
  "metadata":{
    
  },
  "nbformat":4,
  "nbformat_minor":0
}